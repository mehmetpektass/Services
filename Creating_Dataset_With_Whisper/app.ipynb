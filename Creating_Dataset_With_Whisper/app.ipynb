{
 "cells": [
  {
   "cell_type": "code",
   "execution_count": 64,
   "id": "4c884e8b",
   "metadata": {},
   "outputs": [],
   "source": [
    "import os\n",
    "from dotenv import load_dotenv\n",
    "import json\n",
    "import requests\n",
    "import pandas as pd\n",
    "from pydub import AudioSegment\n",
    "from openai import OpenAI\n",
    "import time"
   ]
  },
  {
   "cell_type": "code",
   "execution_count": 65,
   "id": "785e1941",
   "metadata": {},
   "outputs": [],
   "source": [
    "env_path = Path(\".\") / \".env\"\n",
    "load_dotenv(dotenv_path= env_path)\n",
    "\n",
    "openai_api_key = os.getenv(\"OPENAI_API_KEY\")\n",
    "\n",
    "client = OpenAI(api_key= openai_api_key)"
   ]
  },
  {
   "cell_type": "code",
   "execution_count": 66,
   "id": "a8f1a98c",
   "metadata": {},
   "outputs": [],
   "source": [
    "# Transcribe audio file using OpenAI Whisper API with timestamp data\n",
    "\n",
    "def transcribe_with_timestamps(audio_file_path, model= \"whisper-1\"):\n",
    "    print(f\"Starting transcription for: {audio_file_path}\")\n",
    "\n",
    "    try:\n",
    "        with open(audio_file_path, \"rb\") as audio_file:\n",
    "            transcript = client.audio.transcriptions.create(\n",
    "                model = model,\n",
    "                file = audio_file,\n",
    "                response_format = \"verbose_json\",\n",
    "                timestamp_granularities = [\"segment\"],\n",
    "            )\n",
    "        print(f\"Transcription completed. Found {len(transcript.segments)} segments\")\n",
    "        return transcript\n",
    "\n",
    "    except Exception as e:\n",
    "        print(f\"Error during transcription: {str(e)}\")\n",
    "        return None\n"
   ]
  }
 ],
 "metadata": {
  "kernelspec": {
   "display_name": "Whisper_Dataset_Project",
   "language": "python",
   "name": "python3"
  },
  "language_info": {
   "codemirror_mode": {
    "name": "ipython",
    "version": 3
   },
   "file_extension": ".py",
   "mimetype": "text/x-python",
   "name": "python",
   "nbconvert_exporter": "python",
   "pygments_lexer": "ipython3",
   "version": "3.12.7"
  }
 },
 "nbformat": 4,
 "nbformat_minor": 5
}
