{
 "cells": [
  {
   "cell_type": "code",
   "execution_count": 64,
   "id": "4c884e8b",
   "metadata": {},
   "outputs": [],
   "source": [
    "import os\n",
    "from dotenv import load_dotenv\n",
    "import json\n",
    "import requests\n",
    "import pandas as pd\n",
    "from pydub import AudioSegment\n",
    "from openai import OpenAI\n",
    "import time"
   ]
  },
  {
   "cell_type": "code",
   "execution_count": 65,
   "id": "785e1941",
   "metadata": {},
   "outputs": [],
   "source": [
    "env_path = Path(\".\") / \".env\"\n",
    "load_dotenv(dotenv_path= env_path)\n",
    "\n",
    "openai_api_key = os.getenv(\"OPENAI_API_KEY\")\n",
    "\n",
    "client = OpenAI(api_key= openai_api_key)"
   ]
  },
  {
   "cell_type": "code",
   "execution_count": 74,
   "id": "a8f1a98c",
   "metadata": {},
   "outputs": [],
   "source": [
    "# Transcribe audio file using OpenAI Whisper API with timestamp data\n",
    "\n",
    "def transcribe_with_timestamps(audio_file_path, model= \"whisper-1\"):\n",
    "    print(f\"Starting transcription for: {audio_file_path}\")\n",
    "\n",
    "    try:\n",
    "        with open(audio_file_path, \"rb\") as audio_file:\n",
    "            transcript = client.audio.transcriptions.create(\n",
    "                model = model,\n",
    "                file = audio_file,\n",
    "                response_format = \"verbose_json\",\n",
    "                timestamp_granularities = [\"segment\"],\n",
    "            )\n",
    "        print(f\"Transcription completed. Found {len(transcript.segments)} segments\")\n",
    "        return transcript.segments\n",
    "\n",
    "    except Exception as e:\n",
    "        print(f\"Error during transcription: {str(e)}\")\n",
    "        return None\n"
   ]
  },
  {
   "cell_type": "code",
   "execution_count": 75,
   "id": "80ef0785",
   "metadata": {},
   "outputs": [
    {
     "name": "stdout",
     "output_type": "stream",
     "text": [
      "Starting transcription for: /Users/mehmetpektas/Documents/Belgeler - Mehmet MacBook Air/Documents/Services/Creating_Dataset_With_Whisper/Talking_Book(mp3cut.net).mp3\n",
      "Transcription completed. Found 23 segments\n",
      "[TranscriptionSegment(id=0, avg_logprob=-0.3386313319206238, compression_ratio=1.26630437374115, end=5.480000019073486, no_speech_prob=0.027056396007537842, seek=0, start=0.0, temperature=0.0, text=' BİLGELİK TAPINAĞINA AÇILAN KAPI', tokens=[50364, 363, 20320, 43, 38, 3158, 20320, 42, 314, 4715, 1464, 32, 128, 252, 1464, 32, 316, 27707, 4620, 1770, 591, 4715, 40, 50638]), TranscriptionSegment(id=1, avg_logprob=-0.3386313319206238, compression_ratio=1.26630437374115, end=8.720000267028809, no_speech_prob=0.027056396007537842, seek=0, start=5.480000019073486, temperature=0.0, text=' 14. Bölüm 6. HİS', tokens=[50638, 3499, 13, 363, 13072, 8966, 1386, 13, 389, 20320, 50, 50800]), TranscriptionSegment(id=2, avg_logprob=-0.3386313319206238, compression_ratio=1.26630437374115, end=11.279999732971191, no_speech_prob=0.027056396007537842, seek=0, start=8.720000267028809, temperature=0.0, text=' Bilgelik Tapınağına Açılan Kapı', tokens=[50800, 22879, 10345, 1035, 13445, 9236, 1640, 9236, 316, 1138, 50095, 21216, 699, 50928]), TranscriptionSegment(id=3, avg_logprob=-0.3386313319206238, compression_ratio=1.26630437374115, end=15.760000228881836, no_speech_prob=0.027056396007537842, seek=0, start=11.279999732971191, temperature=0.0, text=' Zenginliğe Giden 13. Adım', tokens=[50928, 22387, 1494, 2081, 1640, 68, 460, 4380, 3705, 13, 1999, 2648, 51152]), TranscriptionSegment(id=4, avg_logprob=-0.3386313319206238, compression_ratio=1.26630437374115, end=24.239999771118164, no_speech_prob=0.027056396007537842, seek=0, start=15.760000228881836, temperature=0.0, text=' Zenginliğe Giden 13. Adım, yani son adım, kişinin hiçbir çaba göstermeden ve hiçbir talepte bulunmadan,', tokens=[51152, 22387, 1494, 2081, 1640, 68, 460, 4380, 3705, 13, 1999, 2648, 11, 11654, 1872, 614, 2648, 11, 28212, 15916, 31151, 1844, 5509, 42594, 966, 6876, 1241, 31151, 4023, 595, 975, 48419, 76, 11338, 11, 51576]), TranscriptionSegment(id=5, avg_logprob=-0.200010284781456, compression_ratio=1.445344090461731, end=30.920000076293945, no_speech_prob=0.5134525299072266, seek=2424, start=24.239999771118164, temperature=0.0, text=\" sonsuz akılla kendi isteğiyle iletişim kurabilmesi ve kurması anlamına gelen 6. HİS'dir.\", tokens=[50364, 13476, 3334, 9308, 699, 3505, 29723, 49920, 12498, 2072, 1930, 302, 9496, 332, 10072, 5177, 30314, 1241, 10072, 23477, 28940, 9236, 43353, 1386, 13, 389, 20320, 50, 1116, 347, 13, 50698]), TranscriptionSegment(id=6, avg_logprob=-0.200010284781456, compression_ratio=1.445344090461731, end=35.560001373291016, no_speech_prob=0.5134525299072266, seek=2424, start=30.920000076293945, temperature=0.0, text=' Düşünerek zenginleş felsefesinin en üst noktası bu ilkedir.', tokens=[50698, 413, 8743, 3412, 11746, 37097, 1494, 33284, 11094, 405, 69, 279, 15916, 465, 28816, 33811, 83, 12700, 758, 1930, 34601, 347, 13, 50930]), TranscriptionSegment(id=7, avg_logprob=-0.200010284781456, compression_ratio=1.445344090461731, end=43.36000061035156, no_speech_prob=0.5134525299072266, seek=2424, start=35.560001373291016, temperature=0.0, text=' Yalnızca önceki bölümlerde anlatılan 12 ilkeye tamamen hakim olunarak anlaşılabilir ve uygulanabilir.', tokens=[50930, 398, 42751, 496, 22353, 2984, 36413, 8966, 40893, 27691, 50095, 2272, 1930, 330, 1200, 18536, 268, 324, 25112, 38084, 23346, 364, 16803, 5492, 21711, 1241, 344, 18103, 40701, 21711, 13, 51320]), TranscriptionSegment(id=8, avg_logprob=-0.200010284781456, compression_ratio=1.445344090461731, end=49.15999984741211, no_speech_prob=0.5134525299072266, seek=2424, start=43.36000061035156, temperature=0.0, text=' 6. HİS, bilinçaltı zihnin yaratıcı düşünme olarak adlandırılan bölümüdür.', tokens=[51320, 1386, 13, 389, 20320, 50, 11, 8588, 259, 1138, 3198, 699, 710, 4247, 22955, 288, 18452, 699, 31803, 21755, 1398, 17728, 614, 1661, 3702, 50095, 36413, 8966, 47731, 1655, 13, 51610]), TranscriptionSegment(id=9, avg_logprob=-0.18988673388957977, compression_ratio=1.4979591369628906, end=56.63999938964844, no_speech_prob=0.016896529123187065, seek=4916, start=49.15999984741211, temperature=0.0, text=' Aynı zamanda fikirlerin, planların ve düşüncelerin zihinde belirdiği alıcı olarak da bilinir.', tokens=[50364, 316, 25681, 19876, 5575, 35562, 1648, 31602, 11, 1393, 14716, 1241, 21755, 4933, 31602, 710, 4247, 8274, 989, 1271, 32402, 419, 699, 31803, 17728, 1120, 8588, 259, 347, 13, 50738]), TranscriptionSegment(id=10, avg_logprob=-0.18988673388957977, compression_ratio=1.4979591369628906, end=61.15999984741211, no_speech_prob=0.016896529123187065, seek=4916, start=56.63999938964844, temperature=0.0, text=' Bu belirmelere bazen önsezi ya da ilham denilir.', tokens=[50738, 4078, 989, 3692, 338, 323, 27147, 268, 4044, 3695, 68, 3992, 2478, 1120, 1930, 4822, 1441, 388, 347, 13, 50964]), TranscriptionSegment(id=11, avg_logprob=-0.18988673388957977, compression_ratio=1.4979591369628906, end=64.91999816894531, no_speech_prob=0.016896529123187065, seek=4916, start=61.15999984741211, temperature=0.0, text=' 6. HİS, açıklanabilir bir şey değildir.', tokens=[50964, 1386, 13, 389, 20320, 50, 11, 33282, 8658, 21711, 1904, 6517, 49587, 347, 13, 51152]), TranscriptionSegment(id=12, avg_logprob=-0.18988673388957977, compression_ratio=1.4979591369628906, end=69.36000061035156, no_speech_prob=0.016896529123187065, seek=4916, start=64.91999816894531, temperature=0.0, text=' Bu felsefenin diğer ilkelerine hakim olmayan birine açıklanamaz.', tokens=[51152, 4078, 11094, 405, 6570, 259, 44525, 1930, 330, 1918, 533, 324, 25112, 35954, 282, 1904, 533, 33282, 8658, 30148, 13, 51374]), TranscriptionSegment(id=13, avg_logprob=-0.18988673388957977, compression_ratio=1.4979591369628906, end=76.27999877929688, no_speech_prob=0.016896529123187065, seek=4916, start=69.36000061035156, temperature=0.0, text=\" Çünkü böyle biri, 6. HİS'in karşılaştırılacağı bir bilgiye ya da deneyime sahip değildir.\", tokens=[51374, 26763, 11018, 38530, 11, 1386, 13, 389, 20320, 50, 6, 259, 31653, 16803, 20637, 5492, 10064, 699, 1904, 8588, 7834, 1200, 2478, 1120, 1441, 2030, 1312, 19292, 647, 49587, 347, 13, 51720]), TranscriptionSegment(id=14, avg_logprob=-0.16796875, compression_ratio=1.550561785697937, end=83.27999877929688, no_speech_prob=0.0022867321968078613, seek=7628, start=76.36000061035156, temperature=0.0, text=' 6. HİS, yalnızca içerden zihin geliştirme yoluyla yapılan meditasyonla anlaşılabilir.', tokens=[50368, 1386, 13, 389, 20320, 50, 11, 288, 42751, 496, 33913, 1556, 710, 36902, 4087, 9496, 24000, 1398, 16290, 7493, 875, 37009, 282, 1205, 270, 5871, 266, 875, 364, 16803, 5492, 21711, 13, 50714]), TranscriptionSegment(id=15, avg_logprob=-0.16796875, compression_ratio=1.550561785697937, end=89.87999725341797, no_speech_prob=0.0022867321968078613, seek=7628, start=83.27999877929688, temperature=0.0, text=' 6. HİS, büyük olasılıkla sınırlı insan zihni ile sonsuz akıl arasındaki iletişim aracıdır', tokens=[50714, 1386, 13, 389, 20320, 50, 11, 24059, 2545, 296, 5492, 4157, 875, 262, 2263, 3702, 9811, 11513, 710, 4247, 3722, 15465, 13476, 3334, 9308, 5492, 594, 296, 47028, 1930, 302, 9496, 332, 594, 47327, 23091, 51044]), TranscriptionSegment(id=16, avg_logprob=-0.16796875, compression_ratio=1.550561785697937, end=94.4000015258789, no_speech_prob=0.0022867321968078613, seek=7628, start=89.87999725341797, temperature=0.0, text=' ve bu nedenle zihinsel ve spritüel bir birleşimdir.', tokens=[51044, 1241, 758, 34828, 306, 710, 36902, 790, 1241, 637, 3210, 774, 338, 1904, 1904, 33284, 332, 35043, 13, 51270]), TranscriptionSegment(id=17, avg_logprob=-0.16796875, compression_ratio=1.550561785697937, end=100.4800033569336, no_speech_prob=0.0022867321968078613, seek=7628, start=94.4000015258789, temperature=0.0, text=' İnsan zihninin evrensel akılla temas halinde olduğu noktanın bu olduğuna inanılır.', tokens=[51270, 45379, 282, 710, 4247, 22955, 259, 1073, 1095, 790, 9308, 699, 3505, 40284, 7523, 8274, 30588, 33811, 20356, 2263, 758, 15049, 5051, 33113, 5492, 3702, 13, 51574]), TranscriptionSegment(id=18, avg_logprob=-0.16796875, compression_ratio=1.550561785697937, end=105.23999786376953, no_speech_prob=0.0022867321968078613, seek=7628, start=100.4800033569336, temperature=0.0, text=' Bu kitapta anlatılan başarı ilkelerinin tamamına hakim olduktan sonra,', tokens=[51574, 4078, 8260, 569, 1328, 27691, 50095, 8694, 18318, 1930, 330, 1918, 15916, 18536, 9236, 324, 25112, 1331, 2034, 20356, 13800, 11, 51812]), TranscriptionSegment(id=19, avg_logprob=-0.23683753609657288, compression_ratio=1.4568527936935425, end=112.63999938964844, no_speech_prob=0.0925063043832779, seek=10524, start=105.23999786376953, temperature=0.0, text=' aksi bir durumda size inanılmaz gelebilecek olan bir ifadeyi gerçek olarak kabul etmeye hazır olacaksınız.', tokens=[50364, 257, 20697, 1904, 35218, 2675, 2744, 33113, 5492, 21283, 20234, 65, 794, 12135, 17771, 1904, 498, 762, 8461, 24944, 17728, 46925, 1030, 18631, 29573, 2545, 23825, 13277, 13, 50734]), TranscriptionSegment(id=20, avg_logprob=-0.23683753609657288, compression_ratio=1.4568527936935425, end=114.63999938964844, no_speech_prob=0.0925063043832779, seek=10524, start=112.63999938964844, temperature=0.0, text=' Bu ifade şudur.', tokens=[50734, 4078, 498, 762, 3382, 532, 374, 13, 50834]), TranscriptionSegment(id=21, avg_logprob=-0.23683753609657288, compression_ratio=1.4568527936935425, end=121.0, no_speech_prob=0.0925063043832779, seek=10524, start=114.63999938964844, temperature=0.0, text=\" 6. HİS'in yardımıyla, yaklaşan tehlikelerden kaçınmak için tam zamanında uyarılacak\", tokens=[50834, 1386, 13, 389, 20320, 50, 6, 259, 38875, 25077, 11, 18603, 16803, 282, 32991, 4092, 1918, 1556, 23916, 2263, 8520, 8457, 7677, 12180, 8431, 28266, 289, 5492, 10508, 51152]), TranscriptionSegment(id=22, avg_logprob=-0.23683753609657288, compression_ratio=1.4568527936935425, end=124.63999938964844, no_speech_prob=0.0925063043832779, seek=10524, start=121.0, temperature=0.0, text=' ve fırsatlardan yararlanmak için de tam zamanında uyarılacak.', tokens=[51152, 1241, 47305, 82, 267, 41188, 23793, 6843, 282, 8520, 8457, 368, 7677, 12180, 8431, 28266, 289, 5492, 10508, 13, 51334])]\n"
     ]
    }
   ],
   "source": [
    "print(transcribe_with_timestamps(\"/Users/mehmetpektas/Documents/Belgeler - Mehmet MacBook Air/Documents/Services/Creating_Dataset_With_Whisper/Talking_Book(mp3cut.net).mp3\"))"
   ]
  },
  {
   "cell_type": "code",
   "execution_count": 76,
   "id": "1e1abc65",
   "metadata": {},
   "outputs": [],
   "source": [
    "#Split audio file into segments based on timestamp data\n",
    "\n",
    "def split_audio_by_segments(audio_file_path, segments, output_dir=\"output_segments\"):\n",
    "    print(f\"Loading audio file: {audio_file_path}\")\n",
    "\n",
    "    audio = AudioSegment.from_file(audio_file_path)\n",
    "    Path(output_dir).mkdir(exist_ok = true)\n",
    "    \n",
    "    segments_data = []\n",
    "    \n",
    "    print(f\"Splitting audio into {len(segments)} segments...\")\n",
    "    \n",
    "    for i, segment in enumerate(segments):\n",
    "        # Convert seconds to milliseconds for pydub\n",
    "        start_ms = int(segment.start * 1000)\n",
    "        end_ms = int(segment.end * 1000)\n",
    "        \n",
    "        # Extract segment\n",
    "        segment_audio = audio[start_ms:end_ms]\n",
    "\n",
    "        filename = f\"segment_{i+1:03d}.wav\"\n",
    "        output_path = os.path.join(output_dir, filename)\n",
    "\n",
    "        segment_audio.export(output_path, format=\"wav\")\n",
    "        \n",
    "        # Store segment data with relative path for portability\n",
    "        segment_data = {\n",
    "            \"id\": i + 1,\n",
    "            \"filename\": filename,\n",
    "            \"start\": segment.start,\n",
    "            \"end\": segment.end,\n",
    "            \"duration\": segment.end - segment.start,\n",
    "            \"text\": segment.text.strip(),\n",
    "            \"file_path\": filename  # Use relative path within the output directory\n",
    "        }\n",
    "\n",
    "        segments_data.append(segment_data)\n",
    "        \n",
    "        if (i + 1) % 10 == 0:\n",
    "            print(f\"Processed {i + 1}/{len(segments)} segments\")\n",
    "    \n",
    "    print(f\"Audio splitting completed. All segments saved to: {output_dir}\")\n",
    "    return segments_data"
   ]
  }
 ],
 "metadata": {
  "kernelspec": {
   "display_name": "Whisper_Dataset_Project",
   "language": "python",
   "name": "python3"
  },
  "language_info": {
   "codemirror_mode": {
    "name": "ipython",
    "version": 3
   },
   "file_extension": ".py",
   "mimetype": "text/x-python",
   "name": "python",
   "nbconvert_exporter": "python",
   "pygments_lexer": "ipython3",
   "version": "3.12.7"
  }
 },
 "nbformat": 4,
 "nbformat_minor": 5
}
